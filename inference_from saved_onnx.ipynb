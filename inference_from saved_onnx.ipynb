{
 "cells": [
  {
   "cell_type": "code",
   "execution_count": null,
   "id": "d1b114ce",
   "metadata": {},
   "outputs": [],
   "source": [
    "## To load and check onnx and get the Prediction according to the model"
   ]
  },
  {
   "cell_type": "code",
   "execution_count": 1,
   "id": "bbe6538d",
   "metadata": {},
   "outputs": [
    {
     "name": "stdout",
     "output_type": "stream",
     "text": [
      "Requirement already satisfied: onnx in c:\\users\\subham gupta\\anaconda3\\lib\\site-packages (1.18.0)\n",
      "Collecting onnxruntime\n",
      "  Downloading onnxruntime-1.22.0-cp312-cp312-win_amd64.whl.metadata (5.0 kB)\n",
      "Requirement already satisfied: numpy>=1.22 in c:\\users\\subham gupta\\anaconda3\\lib\\site-packages (from onnx) (1.26.4)\n",
      "Requirement already satisfied: protobuf>=4.25.1 in c:\\users\\subham gupta\\anaconda3\\lib\\site-packages (from onnx) (4.25.3)\n",
      "Requirement already satisfied: typing_extensions>=4.7.1 in c:\\users\\subham gupta\\anaconda3\\lib\\site-packages (from onnx) (4.12.2)\n",
      "Collecting coloredlogs (from onnxruntime)\n",
      "  Downloading coloredlogs-15.0.1-py2.py3-none-any.whl.metadata (12 kB)\n",
      "Requirement already satisfied: flatbuffers in c:\\users\\subham gupta\\anaconda3\\lib\\site-packages (from onnxruntime) (24.12.23)\n",
      "Requirement already satisfied: packaging in c:\\users\\subham gupta\\anaconda3\\lib\\site-packages (from onnxruntime) (24.1)\n",
      "Requirement already satisfied: sympy in c:\\users\\subham gupta\\anaconda3\\lib\\site-packages (from onnxruntime) (1.13.1)\n",
      "Collecting humanfriendly>=9.1 (from coloredlogs->onnxruntime)\n",
      "  Downloading humanfriendly-10.0-py2.py3-none-any.whl.metadata (9.2 kB)\n",
      "Requirement already satisfied: mpmath<1.4,>=1.1.0 in c:\\users\\subham gupta\\anaconda3\\lib\\site-packages (from sympy->onnxruntime) (1.3.0)\n",
      "Collecting pyreadline3 (from humanfriendly>=9.1->coloredlogs->onnxruntime)\n",
      "  Downloading pyreadline3-3.5.4-py3-none-any.whl.metadata (4.7 kB)\n",
      "Downloading onnxruntime-1.22.0-cp312-cp312-win_amd64.whl (12.7 MB)\n",
      "   ---------------------------------------- 0.0/12.7 MB ? eta -:--:--\n",
      "   ------- -------------------------------- 2.4/12.7 MB 11.2 MB/s eta 0:00:01\n",
      "   -------------- ------------------------- 4.7/12.7 MB 11.4 MB/s eta 0:00:01\n",
      "   ----------------------- ---------------- 7.3/12.7 MB 11.9 MB/s eta 0:00:01\n",
      "   ------------------------------- -------- 10.0/12.7 MB 11.7 MB/s eta 0:00:01\n",
      "   -------------------------------------- - 12.3/12.7 MB 11.7 MB/s eta 0:00:01\n",
      "   ---------------------------------------- 12.7/12.7 MB 11.4 MB/s eta 0:00:00\n",
      "Downloading coloredlogs-15.0.1-py2.py3-none-any.whl (46 kB)\n",
      "Downloading humanfriendly-10.0-py2.py3-none-any.whl (86 kB)\n",
      "Downloading pyreadline3-3.5.4-py3-none-any.whl (83 kB)\n",
      "Installing collected packages: pyreadline3, humanfriendly, coloredlogs, onnxruntime\n",
      "Successfully installed coloredlogs-15.0.1 humanfriendly-10.0 onnxruntime-1.22.0 pyreadline3-3.5.4\n"
     ]
    }
   ],
   "source": [
    "!pip install onnx onnxruntime"
   ]
  },
  {
   "cell_type": "code",
   "execution_count": 2,
   "id": "f8e50148",
   "metadata": {},
   "outputs": [
    {
     "name": "stdout",
     "output_type": "stream",
     "text": [
      "Predicted Class Index: 1\n",
      "Predicted Label: bicycle\n",
      "Class Probabilities: [[2.5089694e-10 9.6870941e-01 3.0591094e-10 2.1118505e-09 8.8515361e-07\n",
      "  1.3887793e-12 6.7143032e-05 2.1500273e-05 3.1200824e-02 2.0835279e-07\n",
      "  5.8739715e-09 2.5064307e-13]]\n"
     ]
    }
   ],
   "source": [
    "import onnxruntime as ort\n",
    "import numpy as np\n",
    "from PIL import Image\n",
    "\n",
    "# Load the ONNX model\n",
    "onnx_model_path = r\"C:\\Users\\Subham Gupta\\Desktop\\Work\\i2v_system_Visiontask\\Deliverables\\DenseNet121__20epochcategorical_crossentropy.onnx\"  # Replace with the actual path to your ONNX model\n",
    "session = ort.InferenceSession(onnx_model_path)\n",
    "\n",
    "# Get input and output names\n",
    "input_name = session.get_inputs()[0].name\n",
    "output_name = session.get_outputs()[0].name\n",
    "\n",
    "# Preprocess the image\n",
    "def preprocess_image(image_path, target_size=(224, 224)):\n",
    "    # Load the image\n",
    "    img = Image.open(image_path).convert(\"RGB\")\n",
    "    \n",
    "    # Resize the image\n",
    "    img = img.resize(target_size)\n",
    "    \n",
    "    # Convert to numpy array\n",
    "    img_array = np.array(img, dtype=np.float32)\n",
    "    \n",
    "    # Normalize the image (rescale pixel values to [0, 1])\n",
    "    img_array /= 255.0\n",
    "    \n",
    "    # Add batch dimension (1, 224, 224, 3)\n",
    "    img_array = np.expand_dims(img_array, axis=0)\n",
    "    \n",
    "    return img_array\n",
    "\n",
    "# Predict the class of an image\n",
    "def predict_image_class(image_path):\n",
    "    # Preprocess the image\n",
    "    input_data = preprocess_image(image_path)\n",
    "    \n",
    "    # Perform inference\n",
    "    predictions = session.run([output_name], {input_name: input_data})[0]\n",
    "    \n",
    "    # Get the class with the highest probability\n",
    "    predicted_class = np.argmax(predictions, axis=1)[0]\n",
    "    \n",
    "    return predicted_class, predictions\n",
    "\n",
    "# Define class labels (optional) # Update with your actual class labels\n",
    "class_indices ={'auto-rickshaw': 0, 'bicycle': 1,  'bus': 2,  'car': 3, 'e-rickshaw': 4, 'mini-bus': 5, 'mini-truck': 6,  'motorcycle': 7, 'rickshaw': 8,  'tractor': 9, 'truck': 10,  'van': 11 }\n",
    "\n",
    "class_labels = {v: k for k, v in class_indices.items()}\n",
    "# Test the function\n",
    "image_path = r\"C:\\Users\\Subham Gupta\\Desktop\\Work\\i2v_system_Visiontask\\original_vehicle_dataset\\train\\bicycle\\0_vlcsnap-2020-01-24-12h06m04s456.png\"  # Replace with the path of your test image\n",
    "predicted_class, probabilities = predict_image_class(image_path)\n",
    "\n",
    "# Output results\n",
    "print(f\"Predicted Class Index: {predicted_class}\")\n",
    "if class_labels:\n",
    "    print(f\"Predicted Label: {class_labels.get(predicted_class, 'Unknown')}\")\n",
    "print(f\"Class Probabilities: {probabilities}\")\n"
   ]
  },
  {
   "cell_type": "code",
   "execution_count": null,
   "id": "ede38418",
   "metadata": {},
   "outputs": [],
   "source": []
  }
 ],
 "metadata": {
  "kernelspec": {
   "display_name": "base",
   "language": "python",
   "name": "python3"
  },
  "language_info": {
   "codemirror_mode": {
    "name": "ipython",
    "version": 3
   },
   "file_extension": ".py",
   "mimetype": "text/x-python",
   "name": "python",
   "nbconvert_exporter": "python",
   "pygments_lexer": "ipython3",
   "version": "3.12.7"
  }
 },
 "nbformat": 4,
 "nbformat_minor": 5
}
